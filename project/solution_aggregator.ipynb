 {
 "cells": [
  {
   "cell_type": "code",
   "execution_count": 1,
   "metadata": {
    "collapsed": true
   },
   "outputs": [
    {
     "name": "stdout",
     "output_type": "stream",
     "text": [
      "Your submission was successfully saved!\n"
     ]
    }
   ],
   "source": [
    "import pandas as pd\n",
    "import numpy as np\n",
    "\n",
    "submission1 = pd.read_csv('submission1.csv') #result of agglomerative clustering (code in project.ipynb)\n",
    "submission2 = pd.read_csv('submission2.csv') #result of DBSCAN (code in dbscan.ipynb)\n",
    "submission = 1 - (1 - np.asarray(submission1.target))*(1 - np.asarray(submission2.target))\n",
    "out_output = pd.DataFrame({'pair_id': submission1.pair_id, 'target': submission})\n",
    "out_output.to_csv('submission-.csv', index=False)\n",
    "print('Your submission was successfully saved!')"
   ]
  }
  ],
 "metadata": {
  "kernelspec": {
   "display_name": "Python [anaconda]",
   "language": "python",
   "name": "Python [anaconda]"
  },
  "language_info": {
   "codemirror_mode": {
    "name": "ipython",
    "version": 3
   },
   "file_extension": ".py",
   "mimetype": "text/x-python",
   "name": "python",
   "nbconvert_exporter": "python",
   "pygments_lexer": "ipython3",
   "version": "3.5.4"
  }
 },
 "nbformat": 4,
 "nbformat_minor": 2
}
